{
 "cells": [
  {
   "cell_type": "markdown",
   "id": "7f72f561",
   "metadata": {},
   "source": [
    "You can use this notebook to write the ML pipeline for the classification of the galaxies in the GALAXYZOO dataset or create a folder with different files associated to the different steps of the ML pipeline."
   ]
  },
  {
   "cell_type": "code",
   "execution_count": null,
   "id": "15be4be0",
   "metadata": {},
   "outputs": [],
   "source": [
    "#Importing libraries\n",
    "\n",
    "import plotly.express as px\n",
    "import matplotlib.pyplot as plt\n",
    "import numpy as np\n",
    "from sklearn.preprocessing import StandardScaler\n",
    "from sklearn.model_selection import train_test_split\n",
    "#import Random forest classifiers\n",
    "from sklearn.metrics import accuracy_score, classification_report, confusion_matrix\n",
    "import seaborn as sns"
   ]
  },
  {
   "cell_type": "markdown",
   "id": "02232e77",
   "metadata": {},
   "source": [
    "# Downloading the Galaxy Zoo Dataset\n",
    "\n",
    "You can find the dataset from the Github repository at the url:\n",
    "\n"
   ]
  },
  {
   "cell_type": "markdown",
   "id": "27c8190c",
   "metadata": {},
   "source": [
    "https://www.kaggle.com/competitions/galaxy-zoo-the-galaxy-challenge/data"
   ]
  },
  {
   "cell_type": "code",
   "execution_count": null,
   "id": "69b61c49",
   "metadata": {},
   "outputs": [],
   "source": [
    "!pip install pillow"
   ]
  },
  {
   "cell_type": "markdown",
   "id": "0105d921",
   "metadata": {},
   "source": [
    "# Utility function to read Images"
   ]
  },
  {
   "cell_type": "code",
   "execution_count": 3,
   "id": "ba08e7e4",
   "metadata": {},
   "outputs": [],
   "source": [
    "#Using PILLOW to convert images to array\n",
    "from PIL import Image, ImageOps\n",
    "from numpy import asarray\n",
    " \n",
    " \n",
    "# load the image and convert into numpy array\n",
    "img = Image.open('dask-example.png') \n",
    "\n",
    "img_gray = ImageOps.grayscale(img)\n",
    "\n",
    "#img_gray.show() #to check it become gray\n",
    " \n",
    "# asarray() class is used to convert\n",
    "# PIL images into NumPy arrays\n",
    "numpydata = asarray(img_gray)"
   ]
  },
  {
   "cell_type": "markdown",
   "id": "e5d16d55",
   "metadata": {},
   "source": [
    "# EDA, feature preprocessing and classification\n",
    "\n",
    "1. Convert array of pixels in rows of a tabular dataset. You have two options:\n",
    "   A. You can use the single pixel as a feaiture column and the intensities as values measured \n",
    "   B. You can use intensity values \n",
    "   \n",
    "2. Perform EDA and feature preprocessing\n",
    "\n",
    "3. Decide if you want/can reduce the dimensions of the problem\n",
    "\n",
    "4. Build the classifier using Random Forest (play with different  depth and number of trees)\n",
    "\n",
    "5. Split the data in training and test set\n",
    "\n",
    "6. Train the classifier\n",
    "\n",
    "7. Predict the class labels\n"
   ]
  },
  {
   "cell_type": "markdown",
   "id": "4346703d",
   "metadata": {},
   "source": [
    "# Evaluate the accuracy of the Classifier\n",
    "## Plot Confusion matrix"
   ]
  },
  {
   "cell_type": "code",
   "execution_count": null,
   "id": "e511344d",
   "metadata": {},
   "outputs": [],
   "source": []
  }
 ],
 "metadata": {
  "kernelspec": {
   "display_name": "Python 3 (ipykernel)",
   "language": "python",
   "name": "python3"
  },
  "language_info": {
   "codemirror_mode": {
    "name": "ipython",
    "version": 3
   },
   "file_extension": ".py",
   "mimetype": "text/x-python",
   "name": "python",
   "nbconvert_exporter": "python",
   "pygments_lexer": "ipython3",
   "version": "3.10.4"
  }
 },
 "nbformat": 4,
 "nbformat_minor": 5
}
