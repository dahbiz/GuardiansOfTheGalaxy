{
 "cells": [
  {
   "cell_type": "code",
   "execution_count": 1,
   "id": "7d043c19-770f-4d01-b764-5559feb7882e",
   "metadata": {},
   "outputs": [
    {
     "name": "stderr",
     "output_type": "stream",
     "text": [
      "/tmp/ipykernel_46253/873933084.py:1: DeprecationWarning: \n",
      "Pyarrow will become a required dependency of pandas in the next major release of pandas (pandas 3.0),\n",
      "(to allow more performant data types, such as the Arrow string type, and better interoperability with other libraries)\n",
      "but was not found to be installed on your system.\n",
      "If this would cause problems for you,\n",
      "please provide us feedback at https://github.com/pandas-dev/pandas/issues/54466\n",
      "        \n",
      "  import pandas as pd\n"
     ]
    },
    {
     "ename": "NameError",
     "evalue": "name 'pca' is not defined",
     "output_type": "error",
     "traceback": [
      "\u001b[0;31m---------------------------------------------------------------------------\u001b[0m",
      "\u001b[0;31mNameError\u001b[0m                                 Traceback (most recent call last)",
      "Cell \u001b[0;32mIn[1], line 26\u001b[0m\n\u001b[1;32m     23\u001b[0m galaxy \u001b[38;5;241m=\u001b[39m  sampled_df\u001b[38;5;241m.\u001b[39msort_values(by\u001b[38;5;241m=\u001b[39m\u001b[38;5;124m'\u001b[39m\u001b[38;5;124mGalaxyID\u001b[39m\u001b[38;5;124m'\u001b[39m)\n\u001b[1;32m     25\u001b[0m \u001b[38;5;66;03m#### add yout function for pca\u001b[39;00m\n\u001b[0;32m---> 26\u001b[0m df \u001b[38;5;241m=\u001b[39m pd\u001b[38;5;241m.\u001b[39mDataFrame(\u001b[43mpca\u001b[49m)\n\u001b[1;32m     27\u001b[0m df\u001b[38;5;241m.\u001b[39mcolumns \u001b[38;5;241m=\u001b[39m df\u001b[38;5;241m.\u001b[39miloc[\u001b[38;5;241m0\u001b[39m]\n\u001b[1;32m     28\u001b[0m total_pixels \u001b[38;5;241m=\u001b[39m \u001b[38;5;28mlen\u001b[39m(df\u001b[38;5;241m.\u001b[39mcolumns) \n",
      "\u001b[0;31mNameError\u001b[0m: name 'pca' is not defined"
     ]
    }
   ],
   "source": [
    "import pandas as pd\n",
    "import numpy as np\n",
    "import PyQt5\n",
    "labels = pd.read_csv(\"Galaxy_data/training_solutions_rev1.csv\")\n",
    "labels=labels.drop(labels[labels['Class1.3'] > 0.5].index)\n",
    "labels = labels[['GalaxyID', 'Class1.1', 'Class1.2', 'Class6.1']]\n",
    "labels['Result'] = 'i'\n",
    "labels.loc[(labels['Class1.1'] > 0.7) & (labels['Class6.1'] < 0.1), 'Result'] = 'e'\n",
    "labels.loc[(labels['Class1.2'] > 0.7) & (labels['Class6.1'] < 0.1), 'Result'] = 's'\n",
    "labels.loc[labels['Class6.1'] > 0.63, 'Result'] = 'o'\n",
    "elip_df = labels[labels['Result'] == 'e']\n",
    "spiral_df = labels[labels['Result'] == 's']\n",
    "odd_df = labels[labels['Result'] == 'o']\n",
    "\n",
    "# Sample 5000 values from each category\n",
    "category1_sampled = elip_df.sample(n=1000, random_state=42)\n",
    "category2_sampled = spiral_df.sample(n=1000, random_state=42)\n",
    "category3_sampled = odd_df.sample(n=1000, random_state=42)\n",
    "\n",
    "# Concatenate the sampled DataFrames back together\n",
    "sampled_df = pd.concat([category1_sampled, category2_sampled, category3_sampled])\n",
    "\n",
    "galaxy =  sampled_df.sort_values(by='GalaxyID')\n",
    "\n",
    "\n",
    "pca = np.load(\"pca_09.npy\", allow_pickle=True)\n",
    "df = pd.DataFrame(pca)\n",
    "\n",
    "df.columns = df.iloc[0]\n",
    "total_pixels = len(df.columns) \n",
    "header = [f'Comp_{i}' for i in range(1, total_pixels + 1)]\n",
    "df.columns = header\n",
    "new_column = galaxy['Result']\n",
    "new_column = new_column.values.astype(str)\n",
    "df.insert(0, 'Shape', new_column)\n",
    "\n",
    "X=df.drop(columns=['Shape'])\n",
    "y=df['Shape']\n",
    "\n",
    "from sklearn.model_selection import train_test_split\n",
    "\n",
    "X_train, X_test, y_train, y_test = train_test_split(X,y,test_size=0.2,random_state=42)\n",
    "\n",
    "from sklearn.pipeline import Pipeline\n",
    "from sklearn.ensemble import RandomForestClassifier\n",
    "\n",
    "pipeline=Pipeline([('rf',RandomForestClassifier())])\n",
    "\n",
    "param_grid={\n",
    "    'rf__n_estimators':[50,100,150],\n",
    "    'rf__max_depth':[None,10,20],\n",
    "    'rf__min_samples_split':[2,5,10],\n",
    "    'rf__min_samples_leaf':[1,2,4],\n",
    "    'rf__max_features':['auto','sqrt','log2']\n",
    "}\n",
    "\n",
    "from sklearn.model_selection import GridSearchCV\n",
    "grid_search= GridSearchCV(estimator=pipeline,\n",
    "                         param_grid=param_grid,\n",
    "                         cv=5)\n",
    "\n",
    "grid_search.fit(X_train,y_train)\n",
    "best_params = grid_search.best_params_\n",
    "final_model = pipeline.set_params(**best_params)\n",
    "final_model.fit(X_train,y_train)\n",
    "y_pred = final_model.predict(X_test)\n",
    "\n",
    "from sklearn.metrics import accuracy_score\n",
    "from sklearn.metrics import classification_report, confusion_matrix\n",
    "\n",
    "accuracy = accuracy_score(y_test,y_pred)\n",
    "print(f\"Accuracy: {accuracy:.2f}\")\n",
    "\n",
    "# classification ifo\n",
    "print(\"Classification Report:\")\n",
    "print(classification_report(y_test,y_pred))\n",
    "\n",
    "print(\"Confusion Matrix:\")\n",
    "print(confusion_matrix(y_test,y_pred))\n",
    "\n"
   ]
  },
  {
   "cell_type": "code",
   "execution_count": null,
   "id": "1e4944ee-01c1-4db6-89eb-8582671bd588",
   "metadata": {},
   "outputs": [],
   "source": []
  }
 ],
 "metadata": {
  "kernelspec": {
   "display_name": "Python [conda env:ml] *",
   "language": "python",
   "name": "conda-env-ml-py"
  },
  "language_info": {
   "codemirror_mode": {
    "name": "ipython",
    "version": 3
   },
   "file_extension": ".py",
   "mimetype": "text/x-python",
   "name": "python",
   "nbconvert_exporter": "python",
   "pygments_lexer": "ipython3",
   "version": "3.10.4"
  }
 },
 "nbformat": 4,
 "nbformat_minor": 5
}
