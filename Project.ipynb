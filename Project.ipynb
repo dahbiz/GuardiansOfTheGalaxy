{
 "cells": [
  {
   "cell_type": "code",
   "execution_count": 46,
   "id": "f9e1b581-1c36-4bfa-9198-b541a5c73691",
   "metadata": {},
   "outputs": [],
   "source": [
    "#Importing libraries\n",
    "\n",
    "import plotly.express as px\n",
    "import matplotlib.pyplot as plt\n",
    "import numpy as np\n",
    "from sklearn.preprocessing import StandardScaler\n",
    "from sklearn.model_selection import train_test_split\n",
    "#import Random forest classifiers\n",
    "from sklearn.metrics import accuracy_score, classification_report, confusion_matrix\n",
    "import seaborn as sns\n"
   ]
  },
  {
   "cell_type": "code",
   "execution_count": 47,
   "id": "74cf2d89-48d1-4da2-947d-795942804d4e",
   "metadata": {},
   "outputs": [],
   "source": [
    "import pandas as pd"
   ]
  },
  {
   "cell_type": "code",
   "execution_count": 61,
   "id": "352e8437-17b9-46ef-bef5-2479d9eb9f75",
   "metadata": {},
   "outputs": [
    {
     "data": {
      "text/plain": [
       "(61578, 38)"
      ]
     },
     "execution_count": 61,
     "metadata": {},
     "output_type": "execute_result"
    }
   ],
   "source": [
    "labels = pd.read_csv(\"Galaxy_data/training_solutions_rev1.csv\")\n",
    "labels.shape"
   ]
  },
  {
   "cell_type": "code",
   "execution_count": 62,
   "id": "303dddfa-d0bb-4ec0-9662-dcbbcdc14283",
   "metadata": {},
   "outputs": [],
   "source": [
    "pd.set_option('display.max_columns',None)\n",
    "labels=labels.drop(labels[labels['Class1.3'] > 0.5].index)"
   ]
  },
  {
   "cell_type": "code",
   "execution_count": 63,
   "id": "68e03b50-9dee-4a24-9dd5-1e93be1f05a3",
   "metadata": {},
   "outputs": [],
   "source": [
    "labels = labels[['GalaxyID', 'Class1.1', 'Class1.2', 'Class6.1']]\n",
    "labels['Result'] = 'i'\n",
    "labels.loc[labels['Class1.1'] > 0.6, 'Result'] = 'e'\n",
    "labels.loc[labels['Class1.2'] > 0.6, 'Result'] = 's'\n",
    "labels.loc[labels['Class6.1'] > 0.6, 'Result'] = 'o'\n",
    "\n"
   ]
  },
  {
   "cell_type": "code",
   "execution_count": 64,
   "id": "e61d04cd-0bd2-4bb9-821d-6198e95a04ab",
   "metadata": {},
   "outputs": [
    {
     "data": {
      "text/html": [
       "<div>\n",
       "<style scoped>\n",
       "    .dataframe tbody tr th:only-of-type {\n",
       "        vertical-align: middle;\n",
       "    }\n",
       "\n",
       "    .dataframe tbody tr th {\n",
       "        vertical-align: top;\n",
       "    }\n",
       "\n",
       "    .dataframe thead th {\n",
       "        text-align: right;\n",
       "    }\n",
       "</style>\n",
       "<table border=\"1\" class=\"dataframe\">\n",
       "  <thead>\n",
       "    <tr style=\"text-align: right;\">\n",
       "      <th></th>\n",
       "      <th>GalaxyID</th>\n",
       "      <th>Class1.1</th>\n",
       "      <th>Class1.2</th>\n",
       "      <th>Class6.1</th>\n",
       "      <th>Result</th>\n",
       "    </tr>\n",
       "  </thead>\n",
       "  <tbody>\n",
       "    <tr>\n",
       "      <th>0</th>\n",
       "      <td>100008</td>\n",
       "      <td>0.383147</td>\n",
       "      <td>0.616853</td>\n",
       "      <td>0.054453</td>\n",
       "      <td>s</td>\n",
       "    </tr>\n",
       "    <tr>\n",
       "      <th>1</th>\n",
       "      <td>100023</td>\n",
       "      <td>0.327001</td>\n",
       "      <td>0.663777</td>\n",
       "      <td>0.189149</td>\n",
       "      <td>s</td>\n",
       "    </tr>\n",
       "    <tr>\n",
       "      <th>2</th>\n",
       "      <td>100053</td>\n",
       "      <td>0.765717</td>\n",
       "      <td>0.177352</td>\n",
       "      <td>0.000000</td>\n",
       "      <td>e</td>\n",
       "    </tr>\n",
       "    <tr>\n",
       "      <th>3</th>\n",
       "      <td>100078</td>\n",
       "      <td>0.693377</td>\n",
       "      <td>0.238564</td>\n",
       "      <td>0.320398</td>\n",
       "      <td>e</td>\n",
       "    </tr>\n",
       "    <tr>\n",
       "      <th>4</th>\n",
       "      <td>100090</td>\n",
       "      <td>0.933839</td>\n",
       "      <td>0.000000</td>\n",
       "      <td>0.029383</td>\n",
       "      <td>e</td>\n",
       "    </tr>\n",
       "  </tbody>\n",
       "</table>\n",
       "</div>"
      ],
      "text/plain": [
       "   GalaxyID  Class1.1  Class1.2  Class6.1 Result\n",
       "0    100008  0.383147  0.616853  0.054453      s\n",
       "1    100023  0.327001  0.663777  0.189149      s\n",
       "2    100053  0.765717  0.177352  0.000000      e\n",
       "3    100078  0.693377  0.238564  0.320398      e\n",
       "4    100090  0.933839  0.000000  0.029383      e"
      ]
     },
     "execution_count": 64,
     "metadata": {},
     "output_type": "execute_result"
    }
   ],
   "source": [
    "labels.head()"
   ]
  },
  {
   "cell_type": "code",
   "execution_count": 67,
   "id": "9f5d9d5c-d536-4f72-86b3-d5cd941f6051",
   "metadata": {},
   "outputs": [
    {
     "name": "stdout",
     "output_type": "stream",
     "text": [
      "       GalaxyID  Class1.1  Class1.2  Class6.1 Result\n",
      "2        100053  0.765717  0.177352  0.000000      e\n",
      "5        100122  0.738832  0.238159  0.197930      e\n",
      "6        100123  0.462492  0.456033  0.687647      o\n",
      "8        100134  0.021834  0.976952  0.611499      o\n",
      "16       100263  0.179654  0.818530  0.913055      o\n",
      "...         ...       ...       ...       ...    ...\n",
      "61569    999890  0.308029  0.691971  0.086050      s\n",
      "61570    999893  0.410999  0.519560  0.801448      o\n",
      "61574    999950  0.901216  0.098784  0.127644      e\n",
      "61575    999958  0.202841  0.777376  0.839186      o\n",
      "61576    999964  0.091000  0.909000  0.864000      o\n",
      "\n",
      "[15000 rows x 5 columns]\n"
     ]
    }
   ],
   "source": [
    "elip_df = labels[labels['Result'] == 'e']\n",
    "spiral_df = labels[labels['Result'] == 's']\n",
    "odd_df = labels[labels['Result'] == 'o']\n",
    "\n",
    "# Sample 5000 values from each category\n",
    "category1_sampled = elip_df.sample(n=5000, random_state=42)\n",
    "category2_sampled = spiral_df.sample(n=5000, random_state=42)\n",
    "category3_sampled = odd_df.sample(n=5000, random_state=42)\n",
    "\n",
    "# Concatenate the sampled DataFrames back together\n",
    "sampled_df = pd.concat([category1_sampled, category2_sampled, category3_sampled])\n",
    "\n",
    "galaxy =  sampled_df.sort_values(by='GalaxyID')\n",
    "\n",
    "print(galaxy)\n"
   ]
  },
  {
   "cell_type": "code",
   "execution_count": 45,
   "id": "a351ba96-239f-4559-8867-004ccdf41617",
   "metadata": {},
   "outputs": [
    {
     "name": "stdout",
     "output_type": "stream",
     "text": [
      "       GalaxyID  Class1.1  Class1.2  Class6.1 Result\n",
      "4        100090  0.933839  0.000000  0.029383      e\n",
      "32       100479  0.841554  0.158446  0.205023      e\n",
      "41       100672  0.931725  0.036703  0.201979      e\n",
      "43       100724  0.862362  0.137638  0.000000      e\n",
      "44       100727  0.816171  0.156441  0.042799      e\n",
      "...         ...       ...       ...       ...    ...\n",
      "61556    999655  0.811430  0.188570  0.022833      e\n",
      "61557    999680  0.836536  0.148022  0.058969      e\n",
      "61564    999781  0.848000  0.064000  0.047000      e\n",
      "61565    999786  0.800415  0.165614  0.086267      e\n",
      "61574    999950  0.901216  0.098784  0.127644      e\n",
      "\n",
      "[8080 rows x 5 columns]\n"
     ]
    }
   ],
   "source": [
    "# Filter rows where 'Result' is 'o'\n",
    "result_o = labels[labels['Result'] == 'e']\n",
    "\n",
    "# Display the resulting DataFrame\n",
    "print(result_o)\n"
   ]
  },
  {
   "cell_type": "code",
   "execution_count": 42,
   "id": "352fbcb0-8c63-4308-8436-4ec7a4e0b130",
   "metadata": {},
   "outputs": [
    {
     "name": "stdout",
     "output_type": "stream",
     "text": [
      "       GalaxyID  Class1.1  Class1.2  Class6.1 Result\n",
      "4        100090  0.933839  0.000000  0.029383      e\n",
      "8        100134  0.021834  0.976952  0.611499      s\n",
      "14       100237  0.164391  0.800759  0.132726      s\n",
      "16       100263  0.179654  0.818530  0.913055      o\n",
      "19       100322  0.091987  0.908013  0.000000      s\n",
      "...         ...       ...       ...       ...    ...\n",
      "61568    999875  0.020285  0.979715  0.071272      s\n",
      "61570    999893  0.410999  0.519560  0.801448      o\n",
      "61574    999950  0.901216  0.098784  0.127644      e\n",
      "61575    999958  0.202841  0.777376  0.839186      o\n",
      "61576    999964  0.091000  0.909000  0.864000      o\n",
      "\n",
      "[25562 rows x 5 columns]\n"
     ]
    }
   ],
   "source": [
    "labels=labels.drop(labels[labels['Result'] == 'i'].index)\n",
    "print(labels)"
   ]
  },
  {
   "cell_type": "code",
   "execution_count": 43,
   "id": "b2f430a3-f574-4512-ae1e-285803a08924",
   "metadata": {},
   "outputs": [
    {
     "name": "stdout",
     "output_type": "stream",
     "text": [
      "[100090 100134 100237 ... 999950 999958 999964]\n"
     ]
    }
   ],
   "source": [
    "galaxy_ids = labels['GalaxyID'].to_numpy()\n",
    "\n",
    "# Display the array of GalaxyID\n",
    "print(galaxy_ids)"
   ]
  },
  {
   "cell_type": "code",
   "execution_count": null,
   "id": "d810dfd8-1e7e-49b1-b5a9-2c31645d14fb",
   "metadata": {},
   "outputs": [],
   "source": [
    "from PIL import Image, ImageOps\n",
    "from numpy import asarray\n",
    "import os\n",
    "\n",
    "folder_path = \"Galaxy_data/images_training_rev1/\"\n",
    "output_dict = {}\n",
    "\n",
    "for galaxy_id in galaxy_ids:\n",
    "    filename = f\"{galaxy_id}.jpg\"\n",
    "    filepath = os.path.join(folder_path, filename)\n",
    "\n",
    "    if os.path.exists(filepath):\n",
    "        # load the image and convert into numpy array\n",
    "        img = Image.open(filepath)\n",
    "        img_gray = ImageOps.grayscale(img)\n",
    "        numpydata = asarray(img_gray).flatten()\n",
    "\n",
    "        # store the numpy array in the dictionary with the galaxy_id as the key\n",
    "        output_dict[galaxy_id] = numpydata\n",
    "\n",
    "# Now output_dict contains numpy arrays for all specified galaxy IDs\n"
   ]
  },
  {
   "cell_type": "code",
   "execution_count": null,
   "id": "0e7b8c76-645f-48ef-b470-35517f6beb84",
   "metadata": {
    "scrolled": true
   },
   "outputs": [],
   "source": [
    "import numpy as np\n",
    "x=np.array(list(output_dict.values())).mean()"
   ]
  },
  {
   "cell_type": "code",
   "execution_count": null,
   "id": "11661c77-afd6-465a-abbf-bcb5c43b96af",
   "metadata": {},
   "outputs": [],
   "source": [
    "#import csv\n",
    "\n",
    "\n",
    "# Specify the CSV file path\n",
    "#csv_file_path = 'galaxy.csv'\n",
    "\n",
    "# Writing the data to the CSV file\n",
    "#with open(csv_file_path, 'w', newline='') as csv_file:\n",
    "#    csv_writer = csv.writer(csv_file)\n",
    "\n",
    "    # Write the header row with keys as column names\n",
    "#    header = ['GalaxyID'] + [f'Pixel_{i}' for i in range(len(output_dict[100008].ravel()))]\n",
    "#    csv_writer.writerow(header)\n",
    "\n",
    "    # Write data rows\n",
    "#    for key, value in output_dict.items():\n",
    "        # Flatten the array to a 1D list for the row\n",
    "#        row_data = [key] + value.ravel().tolist()\n",
    "#        csv_writer.writerow(row_data)\n",
    "\n",
    "#print(f'CSV file has been created at: {csv_file_path}')\n"
   ]
  },
  {
   "cell_type": "code",
   "execution_count": null,
   "id": "b0254428-2b3d-4975-98e0-da232741deae",
   "metadata": {},
   "outputs": [],
   "source": [
    "output_dict[100008]"
   ]
  },
  {
   "cell_type": "code",
   "execution_count": null,
   "id": "dfed7d11-f4ab-4306-bdc8-11436d82eb14",
   "metadata": {},
   "outputs": [],
   "source": [
    "len(output_dict[100008].ravel())"
   ]
  },
  {
   "cell_type": "code",
   "execution_count": 25,
   "id": "50b397d2-db96-4ac7-b938-1070f5b6d15f",
   "metadata": {},
   "outputs": [
    {
     "data": {
      "text/plain": [
       "424.0"
      ]
     },
     "execution_count": 25,
     "metadata": {},
     "output_type": "execute_result"
    }
   ],
   "source": []
  },
  {
   "cell_type": "code",
   "execution_count": null,
   "id": "346e0051-c6d0-4490-b5c5-eac4ea0c9c12",
   "metadata": {},
   "outputs": [],
   "source": []
  }
 ],
 "metadata": {
  "kernelspec": {
   "display_name": "Python 3 (ipykernel)",
   "language": "python",
   "name": "python3"
  },
  "language_info": {
   "codemirror_mode": {
    "name": "ipython",
    "version": 3
   },
   "file_extension": ".py",
   "mimetype": "text/x-python",
   "name": "python",
   "nbconvert_exporter": "python",
   "pygments_lexer": "ipython3",
   "version": "3.11.5"
  }
 },
 "nbformat": 4,
 "nbformat_minor": 5
}
