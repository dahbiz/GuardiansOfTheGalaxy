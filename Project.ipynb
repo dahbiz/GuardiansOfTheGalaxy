{
 "cells": [
  {
   "cell_type": "code",
   "execution_count": 33,
   "id": "f9e1b581-1c36-4bfa-9198-b541a5c73691",
   "metadata": {},
   "outputs": [],
   "source": [
    "#Importing libraries\n",
    "\n",
    "import plotly.express as px\n",
    "import matplotlib.pyplot as plt\n",
    "import numpy as np\n",
    "from sklearn.preprocessing import StandardScaler\n",
    "from sklearn.model_selection import train_test_split\n",
    "#import Random forest classifiers\n",
    "from sklearn.metrics import accuracy_score, classification_report, confusion_matrix\n",
    "import seaborn as sns\n"
   ]
  },
  {
   "cell_type": "code",
   "execution_count": 2,
   "id": "5919611c-cc22-4de6-a76c-edd1b7918ad8",
   "metadata": {},
   "outputs": [
    {
     "name": "stdout",
     "output_type": "stream",
     "text": [
      "Requirement already satisfied: pillow in /home/martina/anaconda3/envs/ml/lib/python3.10/site-packages (10.2.0)\n"
     ]
    }
   ],
   "source": [
    "!pip install pillow"
   ]
  },
  {
   "cell_type": "code",
   "execution_count": 27,
   "id": "0cf51367-8c82-46b7-ae04-3fe859a33e8a",
   "metadata": {},
   "outputs": [
    {
     "data": {
      "text/plain": [
       "array([19, 31, 31, 16,  4,  4,  7,  6,  4,  5,  7,  9, 10,  8,  7,  5, 10,\n",
       "       18, 20, 12,  4,  2,  4,  4,  5,  7,  9,  9,  7,  5,  3,  2,  3,  3,\n",
       "        5,  9, 12, 13, 11,  8,  6,  6,  6,  4,  3,  2,  3,  3,  2,  3,  9,\n",
       "       16, 18, 15,  8,  3,  6,  5,  4,  4,  5,  5,  2,  1,  2,  2,  2,  2,\n",
       "        2,  1,  1,  1,  2,  3,  6,  8,  8,  7,  4,  2,  2,  2,  1,  1,  1,\n",
       "        1,  3,  6,  4,  5,  6,  6,  7,  7,  6,  6,  6,  5,  3,  3,  3,  3,\n",
       "        5,  5,  6,  7,  8,  8,  7,  5,  2,  1,  5,  3,  2,  2,  4,  5,  5,\n",
       "        4,  2,  2,  2,  3,  4,  5,  6,  7,  9,  8,  6,  3,  2,  2,  3,  5,\n",
       "        0,  0,  2,  2,  2,  5, 12, 17, 23, 16,  8,  3,  2,  2,  1,  0,  0,\n",
       "        2,  6, 10, 12, 11,  9,  8,  1,  3,  6,  7,  6,  3,  0,  0,  0,  0,\n",
       "        1,  2,  3,  3,  3,  3,  2,  2,  2,  3,  3,  4,  4,  4,  3,  5,  7,\n",
       "        8,  9,  9,  8,  8,  6,  3,  0,  0,  0,  2,  3,  3,  1,  2,  4,  6,\n",
       "        7,  7,  6,  6,  1,  2,  3,  3,  1,  1,  2,  3,  4,  3,  2,  3,  6,\n",
       "        8,  9,  8,  9,  7,  5,  4,  2,  3,  5,  6,  5,  5,  6,  6,  6,  5,\n",
       "        5,  4,  3,  6,  5,  1,  1,  2,  4,  3,  4,  2,  1,  2,  3,  4,  2,\n",
       "        1,  4,  3,  2,  0,  0,  1,  2,  3,  3,  2,  1,  1,  3,  3,  2,  1,\n",
       "        3,  2,  1,  0,  1,  2,  3,  5,  6,  5,  5,  7,  9, 10,  9,  7,  2,\n",
       "        2,  0,  0,  0,  0,  2,  2,  1,  2,  3,  4,  4,  4,  4,  3,  3,  3,\n",
       "        5, 10, 15, 14, 10,  5,  2,  5,  7,  5,  2,  1,  2,  5,  8,  6,  3,\n",
       "        1,  1,  2,  5,  6,  9,  8,  7,  6,  4,  3,  2,  1,  3,  3,  4,  2,\n",
       "        0,  0,  1,  3,  1,  2,  4,  6,  7,  7,  6,  6, 12, 13, 13, 11,  7,\n",
       "        4,  3,  3,  2,  1,  0,  0,  1,  2,  4,  6, 17, 17, 17, 16, 14, 11,\n",
       "        8,  6, 10, 12, 14, 13, 10,  6,  4,  3,  4,  4,  2,  1,  1,  1,  1,\n",
       "        1,  0,  1,  3,  5,  6,  6,  6,  5,  7,  8, 11, 12, 12, 11,  8,  7,\n",
       "        2,  2,  2,  2,  2,  3,  4,  5, 10, 10, 10,  7,  5,  3,  4,  6],\n",
       "      dtype=uint8)"
      ]
     },
     "execution_count": 27,
     "metadata": {},
     "output_type": "execute_result"
    }
   ],
   "source": [
    "#Using PILLOW to convert images to array\n",
    "from PIL import Image, ImageOps\n",
    "from numpy import asarray\n",
    " \n",
    "filepath=\"Galaxy_data/images_training_rev1/100859.jpg\" \n",
    "# load the image and convert into numpy array\n",
    "img = Image.open(filepath)\n",
    "\n",
    "#img.show()\n",
    "\n",
    "img_gray = ImageOps.grayscale(img)\n",
    "\n",
    "img_gray.show() \n",
    "numpydata = asarray(img_gray)"
   ]
  },
  {
   "cell_type": "code",
   "execution_count": 1,
   "id": "74cf2d89-48d1-4da2-947d-795942804d4e",
   "metadata": {},
   "outputs": [
    {
     "name": "stderr",
     "output_type": "stream",
     "text": [
      "/tmp/ipykernel_53628/4080736814.py:1: DeprecationWarning: \n",
      "Pyarrow will become a required dependency of pandas in the next major release of pandas (pandas 3.0),\n",
      "(to allow more performant data types, such as the Arrow string type, and better interoperability with other libraries)\n",
      "but was not found to be installed on your system.\n",
      "If this would cause problems for you,\n",
      "please provide us feedback at https://github.com/pandas-dev/pandas/issues/54466\n",
      "        \n",
      "  import pandas as pd\n"
     ]
    }
   ],
   "source": [
    "import pandas as pd"
   ]
  },
  {
   "cell_type": "code",
   "execution_count": 2,
   "id": "352e8437-17b9-46ef-bef5-2479d9eb9f75",
   "metadata": {},
   "outputs": [
    {
     "data": {
      "text/plain": [
       "(61578, 38)"
      ]
     },
     "execution_count": 2,
     "metadata": {},
     "output_type": "execute_result"
    }
   ],
   "source": [
    "labels = pd.read_csv(\"Galaxy_data/training_solutions_rev1.csv\")\n",
    "labels.shape"
   ]
  },
  {
   "cell_type": "code",
   "execution_count": 3,
   "id": "303dddfa-d0bb-4ec0-9662-dcbbcdc14283",
   "metadata": {},
   "outputs": [],
   "source": [
    "pd.set_option('display.max_columns',None)\n",
    "labels=labels.drop(labels[labels['Class1.3'] > 0.5].index)"
   ]
  },
  {
   "cell_type": "code",
   "execution_count": 4,
   "id": "68e03b50-9dee-4a24-9dd5-1e93be1f05a3",
   "metadata": {},
   "outputs": [],
   "source": [
    "labels = labels[['GalaxyID', 'Class1.1', 'Class1.2', 'Class6.1']]\n",
    "labels['Result'] = 'i'\n",
    "labels.loc[labels['Class1.1'] > 0.6, 'Result'] = 'e'\n",
    "labels.loc[labels['Class1.2'] > 0.6, 'Result'] = 's'\n",
    "labels.loc[labels['Class6.1'] > 0.6, 'Result'] = 'o'\n",
    "\n"
   ]
  },
  {
   "cell_type": "code",
   "execution_count": 5,
   "id": "e61d04cd-0bd2-4bb9-821d-6198e95a04ab",
   "metadata": {},
   "outputs": [
    {
     "data": {
      "text/html": [
       "<div>\n",
       "<style scoped>\n",
       "    .dataframe tbody tr th:only-of-type {\n",
       "        vertical-align: middle;\n",
       "    }\n",
       "\n",
       "    .dataframe tbody tr th {\n",
       "        vertical-align: top;\n",
       "    }\n",
       "\n",
       "    .dataframe thead th {\n",
       "        text-align: right;\n",
       "    }\n",
       "</style>\n",
       "<table border=\"1\" class=\"dataframe\">\n",
       "  <thead>\n",
       "    <tr style=\"text-align: right;\">\n",
       "      <th></th>\n",
       "      <th>GalaxyID</th>\n",
       "      <th>Class1.1</th>\n",
       "      <th>Class1.2</th>\n",
       "      <th>Class6.1</th>\n",
       "      <th>Result</th>\n",
       "    </tr>\n",
       "  </thead>\n",
       "  <tbody>\n",
       "    <tr>\n",
       "      <th>0</th>\n",
       "      <td>100008</td>\n",
       "      <td>0.383147</td>\n",
       "      <td>0.616853</td>\n",
       "      <td>0.054453</td>\n",
       "      <td>s</td>\n",
       "    </tr>\n",
       "    <tr>\n",
       "      <th>1</th>\n",
       "      <td>100023</td>\n",
       "      <td>0.327001</td>\n",
       "      <td>0.663777</td>\n",
       "      <td>0.189149</td>\n",
       "      <td>s</td>\n",
       "    </tr>\n",
       "    <tr>\n",
       "      <th>2</th>\n",
       "      <td>100053</td>\n",
       "      <td>0.765717</td>\n",
       "      <td>0.177352</td>\n",
       "      <td>0.000000</td>\n",
       "      <td>e</td>\n",
       "    </tr>\n",
       "    <tr>\n",
       "      <th>3</th>\n",
       "      <td>100078</td>\n",
       "      <td>0.693377</td>\n",
       "      <td>0.238564</td>\n",
       "      <td>0.320398</td>\n",
       "      <td>e</td>\n",
       "    </tr>\n",
       "    <tr>\n",
       "      <th>4</th>\n",
       "      <td>100090</td>\n",
       "      <td>0.933839</td>\n",
       "      <td>0.000000</td>\n",
       "      <td>0.029383</td>\n",
       "      <td>e</td>\n",
       "    </tr>\n",
       "  </tbody>\n",
       "</table>\n",
       "</div>"
      ],
      "text/plain": [
       "   GalaxyID  Class1.1  Class1.2  Class6.1 Result\n",
       "0    100008  0.383147  0.616853  0.054453      s\n",
       "1    100023  0.327001  0.663777  0.189149      s\n",
       "2    100053  0.765717  0.177352  0.000000      e\n",
       "3    100078  0.693377  0.238564  0.320398      e\n",
       "4    100090  0.933839  0.000000  0.029383      e"
      ]
     },
     "execution_count": 5,
     "metadata": {},
     "output_type": "execute_result"
    }
   ],
   "source": [
    "labels.head()"
   ]
  },
  {
   "cell_type": "code",
   "execution_count": 6,
   "id": "a351ba96-239f-4559-8867-004ccdf41617",
   "metadata": {},
   "outputs": [
    {
     "name": "stdout",
     "output_type": "stream",
     "text": [
      "       GalaxyID  Class1.1  Class1.2  Class6.1 Result\n",
      "10       100150  0.429378  0.524901  0.037499      i\n",
      "12       100187  0.448521  0.551479  0.252285      i\n",
      "13       100204  0.467625  0.531480  0.084531      i\n",
      "21       100367  0.471429  0.512708  0.430580      i\n",
      "36       100541  0.445052  0.533256  0.229921      i\n",
      "...         ...       ...       ...       ...    ...\n",
      "61562    999753  0.458539  0.541461  0.177392      i\n",
      "61567    999873  0.531642  0.431270  0.382783      i\n",
      "61571    999900  0.460239  0.511396  0.273592      i\n",
      "61572    999936  0.545443  0.454557  0.028557      i\n",
      "61573    999948  0.510379  0.489621  0.245734      i\n",
      "\n",
      "[11778 rows x 5 columns]\n"
     ]
    }
   ],
   "source": [
    "# Filter rows where 'Result' is 'o'\n",
    "result_o = labels[labels['Result'] == 'i']\n",
    "\n",
    "# Display the resulting DataFrame\n",
    "print(result_o)\n"
   ]
  },
  {
   "cell_type": "code",
   "execution_count": 7,
   "id": "352fbcb0-8c63-4308-8436-4ec7a4e0b130",
   "metadata": {},
   "outputs": [
    {
     "name": "stdout",
     "output_type": "stream",
     "text": [
      "       GalaxyID  Class1.1  Class1.2  Class6.1 Result\n",
      "0        100008  0.383147  0.616853  0.054453      s\n",
      "1        100023  0.327001  0.663777  0.189149      s\n",
      "2        100053  0.765717  0.177352  0.000000      e\n",
      "3        100078  0.693377  0.238564  0.320398      e\n",
      "4        100090  0.933839  0.000000  0.029383      e\n",
      "...         ...       ...       ...       ...    ...\n",
      "61570    999893  0.410999  0.519560  0.801448      o\n",
      "61574    999950  0.901216  0.098784  0.127644      e\n",
      "61575    999958  0.202841  0.777376  0.839186      o\n",
      "61576    999964  0.091000  0.909000  0.864000      o\n",
      "61577    999967  0.767000  0.140000  0.333000      e\n",
      "\n",
      "[49756 rows x 5 columns]\n"
     ]
    }
   ],
   "source": [
    "labels=labels.drop(labels[labels['Result'] == 'i'].index)\n",
    "print(labels)"
   ]
  },
  {
   "cell_type": "code",
   "execution_count": 8,
   "id": "b2f430a3-f574-4512-ae1e-285803a08924",
   "metadata": {},
   "outputs": [
    {
     "name": "stdout",
     "output_type": "stream",
     "text": [
      "[100008 100023 100053 ... 999958 999964 999967]\n"
     ]
    }
   ],
   "source": [
    "galaxy_ids = labels['GalaxyID'].to_numpy()\n",
    "\n",
    "# Display the array of GalaxyID\n",
    "print(galaxy_ids)"
   ]
  },
  {
   "cell_type": "code",
   "execution_count": 35,
   "id": "18fe3ff7-e56b-4702-8d58-5a11005bda41",
   "metadata": {},
   "outputs": [
    {
     "name": "stderr",
     "output_type": "stream",
     "text": [
      "IOPub data rate exceeded.\n",
      "The Jupyter server will temporarily stop sending output\n",
      "to the client in order to avoid crashing it.\n",
      "To change this limit, set the config variable\n",
      "`--ServerApp.iopub_data_rate_limit`.\n",
      "\n",
      "Current values:\n",
      "ServerApp.iopub_data_rate_limit=1000000.0 (bytes/sec)\n",
      "ServerApp.rate_limit_window=3.0 (secs)\n",
      "\n"
     ]
    }
   ],
   "source": [
    "import os\n",
    "from PIL import Image, ImageOps\n",
    "from numpy import asarray\n",
    "image_folder_path = \"Galaxy_data/images_training_rev1/\"\n",
    "\n",
    "data_list = []\n",
    "\n",
    "for galaxy_id in galaxy_ids[:10]:\n",
    "    image_path = os.path.join(image_folder_path, f\"{galaxy_id}.jpg\")\n",
    "\n",
    "    img = Image.open(image_path)\n",
    "    img_gray = ImageOps.grayscale(img)\n",
    "    numpydata = asarray(img_gray).flatten()  \n",
    "    row_data = labels[labels['GalaxyID'] == galaxy_id].iloc[0]\n",
    "\n",
    "    row = [galaxy_id, row_data['Result']] + list(numpydata)\n",
    "    \n",
    "    data_list.append(row)\n",
    "\n",
    "columns = ['GalaxyID', 'Result'] + [f'Pixel_{i}' for i in range(len(numpydata))]\n",
    "image_data_df = pd.DataFrame(data_list, columns=columns)\n",
    "\n",
    "print(image_data_df)"
   ]
  },
  {
   "cell_type": "code",
   "execution_count": 9,
   "id": "d810dfd8-1e7e-49b1-b5a9-2c31645d14fb",
   "metadata": {},
   "outputs": [],
   "source": [
    "from PIL import Image, ImageOps\n",
    "from numpy import asarray\n",
    "import os\n",
    "\n",
    "folder_path = \"Galaxy_data/images_training_rev1/\"\n",
    "output_dict = {}\n",
    "\n",
    "for galaxy_id in galaxy_ids:\n",
    "    filename = f\"{galaxy_id}.jpg\"\n",
    "    filepath = os.path.join(folder_path, filename)\n",
    "\n",
    "    if os.path.exists(filepath):\n",
    "        # load the image and convert into numpy array\n",
    "        img = Image.open(filepath)\n",
    "        img_gray = ImageOps.grayscale(img)\n",
    "        numpydata = asarray(img_gray)\n",
    "\n",
    "        # store the numpy array in the dictionary with the galaxy_id as the key\n",
    "        output_dict[galaxy_id] = numpydata\n",
    "\n",
    "# Now output_dict contains numpy arrays for all specified galaxy IDs\n"
   ]
  },
  {
   "cell_type": "code",
   "execution_count": null,
   "id": "66d5e782-aec5-434a-8bdc-af18a13b8b95",
   "metadata": {},
   "outputs": [],
   "source": [
    "# Create a DataFrame\n",
    "df = pd.DataFrame.from_dict(output_dict, orient='index')\n",
    "\n",
    "# Reset the index to make the keys a column\n",
    "df.reset_index(inplace=True)\n",
    "\n",
    "# Rename the columns if needed\n",
    "df.columns = ['Key'] + [f'Value{i}' for i in range(1, 425)]\n",
    "\n",
    "print(df)"
   ]
  },
  {
   "cell_type": "code",
   "execution_count": 22,
   "id": "11661c77-afd6-465a-abbf-bcb5c43b96af",
   "metadata": {},
   "outputs": [
    {
     "ename": "KeyboardInterrupt",
     "evalue": "",
     "output_type": "error",
     "traceback": [
      "\u001b[0;31m---------------------------------------------------------------------------\u001b[0m",
      "\u001b[0;31mKeyboardInterrupt\u001b[0m                         Traceback (most recent call last)",
      "Cell \u001b[0;32mIn[22], line 19\u001b[0m\n\u001b[1;32m     16\u001b[0m     \u001b[38;5;28;01mfor\u001b[39;00m key, value \u001b[38;5;129;01min\u001b[39;00m output_dict\u001b[38;5;241m.\u001b[39mitems():\n\u001b[1;32m     17\u001b[0m         \u001b[38;5;66;03m# Flatten the array to a 1D list for the row\u001b[39;00m\n\u001b[1;32m     18\u001b[0m         row_data \u001b[38;5;241m=\u001b[39m [key] \u001b[38;5;241m+\u001b[39m value\u001b[38;5;241m.\u001b[39mravel()\u001b[38;5;241m.\u001b[39mtolist()\n\u001b[0;32m---> 19\u001b[0m         \u001b[43mcsv_writer\u001b[49m\u001b[38;5;241;43m.\u001b[39;49m\u001b[43mwriterow\u001b[49m\u001b[43m(\u001b[49m\u001b[43mrow_data\u001b[49m\u001b[43m)\u001b[49m\n\u001b[1;32m     21\u001b[0m \u001b[38;5;28mprint\u001b[39m(\u001b[38;5;124mf\u001b[39m\u001b[38;5;124m'\u001b[39m\u001b[38;5;124mCSV file has been created at: \u001b[39m\u001b[38;5;132;01m{\u001b[39;00mcsv_file_path\u001b[38;5;132;01m}\u001b[39;00m\u001b[38;5;124m'\u001b[39m)\n",
      "\u001b[0;31mKeyboardInterrupt\u001b[0m: "
     ]
    }
   ],
   "source": [
    "#import csv\n",
    "\n",
    "\n",
    "# Specify the CSV file path\n",
    "#csv_file_path = 'galaxy.csv'\n",
    "\n",
    "# Writing the data to the CSV file\n",
    "#with open(csv_file_path, 'w', newline='') as csv_file:\n",
    "#    csv_writer = csv.writer(csv_file)\n",
    "\n",
    "    # Write the header row with keys as column names\n",
    "#    header = ['GalaxyID'] + [f'Pixel_{i}' for i in range(len(output_dict[100008].ravel()))]\n",
    "#    csv_writer.writerow(header)\n",
    "\n",
    "    # Write data rows\n",
    "#    for key, value in output_dict.items():\n",
    "        # Flatten the array to a 1D list for the row\n",
    "#        row_data = [key] + value.ravel().tolist()\n",
    "#        csv_writer.writerow(row_data)\n",
    "\n",
    "#print(f'CSV file has been created at: {csv_file_path}')\n"
   ]
  },
  {
   "cell_type": "code",
   "execution_count": 21,
   "id": "b0254428-2b3d-4975-98e0-da232741deae",
   "metadata": {},
   "outputs": [
    {
     "data": {
      "text/plain": [
       "(424, 424)"
      ]
     },
     "execution_count": 21,
     "metadata": {},
     "output_type": "execute_result"
    }
   ],
   "source": [
    "output_dict[100008]"
   ]
  },
  {
   "cell_type": "code",
   "execution_count": 24,
   "id": "dfed7d11-f4ab-4306-bdc8-11436d82eb14",
   "metadata": {},
   "outputs": [
    {
     "data": {
      "text/plain": [
       "179776"
      ]
     },
     "execution_count": 24,
     "metadata": {},
     "output_type": "execute_result"
    }
   ],
   "source": [
    "len(output_dict[100008].ravel())"
   ]
  },
  {
   "cell_type": "code",
   "execution_count": 25,
   "id": "50b397d2-db96-4ac7-b938-1070f5b6d15f",
   "metadata": {},
   "outputs": [
    {
     "data": {
      "text/plain": [
       "424.0"
      ]
     },
     "execution_count": 25,
     "metadata": {},
     "output_type": "execute_result"
    }
   ],
   "source": []
  },
  {
   "cell_type": "code",
   "execution_count": null,
   "id": "346e0051-c6d0-4490-b5c5-eac4ea0c9c12",
   "metadata": {},
   "outputs": [],
   "source": []
  }
 ],
 "metadata": {
  "kernelspec": {
   "display_name": "Python [conda env:ml] *",
   "language": "python",
   "name": "conda-env-ml-py"
  },
  "language_info": {
   "codemirror_mode": {
    "name": "ipython",
    "version": 3
   },
   "file_extension": ".py",
   "mimetype": "text/x-python",
   "name": "python",
   "nbconvert_exporter": "python",
   "pygments_lexer": "ipython3",
   "version": "3.10.4"
  }
 },
 "nbformat": 4,
 "nbformat_minor": 5
}
