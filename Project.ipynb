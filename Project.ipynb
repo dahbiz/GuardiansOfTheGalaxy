{
 "cells": [
  {
   "cell_type": "code",
   "execution_count": 1,
   "id": "f9e1b581-1c36-4bfa-9198-b541a5c73691",
   "metadata": {},
   "outputs": [],
   "source": [
    "#Importing libraries\n",
    "\n",
    "import plotly.express as px\n",
    "import matplotlib.pyplot as plt\n",
    "import numpy as np\n",
    "from sklearn.preprocessing import StandardScaler\n",
    "from sklearn.model_selection import train_test_split\n",
    "#import Random forest classifiers\n",
    "from sklearn.metrics import accuracy_score, classification_report, confusion_matrix\n",
    "import seaborn as sns\n"
   ]
  },
  {
   "cell_type": "code",
   "execution_count": 2,
   "id": "5919611c-cc22-4de6-a76c-edd1b7918ad8",
   "metadata": {},
   "outputs": [
    {
     "name": "stdout",
     "output_type": "stream",
     "text": [
      "Requirement already satisfied: pillow in /home/martina/anaconda3/envs/ml/lib/python3.10/site-packages (10.2.0)\n"
     ]
    }
   ],
   "source": [
    "!pip install pillow"
   ]
  },
  {
   "cell_type": "code",
   "execution_count": 27,
   "id": "0cf51367-8c82-46b7-ae04-3fe859a33e8a",
   "metadata": {},
   "outputs": [
    {
     "data": {
      "text/plain": [
       "array([19, 31, 31, 16,  4,  4,  7,  6,  4,  5,  7,  9, 10,  8,  7,  5, 10,\n",
       "       18, 20, 12,  4,  2,  4,  4,  5,  7,  9,  9,  7,  5,  3,  2,  3,  3,\n",
       "        5,  9, 12, 13, 11,  8,  6,  6,  6,  4,  3,  2,  3,  3,  2,  3,  9,\n",
       "       16, 18, 15,  8,  3,  6,  5,  4,  4,  5,  5,  2,  1,  2,  2,  2,  2,\n",
       "        2,  1,  1,  1,  2,  3,  6,  8,  8,  7,  4,  2,  2,  2,  1,  1,  1,\n",
       "        1,  3,  6,  4,  5,  6,  6,  7,  7,  6,  6,  6,  5,  3,  3,  3,  3,\n",
       "        5,  5,  6,  7,  8,  8,  7,  5,  2,  1,  5,  3,  2,  2,  4,  5,  5,\n",
       "        4,  2,  2,  2,  3,  4,  5,  6,  7,  9,  8,  6,  3,  2,  2,  3,  5,\n",
       "        0,  0,  2,  2,  2,  5, 12, 17, 23, 16,  8,  3,  2,  2,  1,  0,  0,\n",
       "        2,  6, 10, 12, 11,  9,  8,  1,  3,  6,  7,  6,  3,  0,  0,  0,  0,\n",
       "        1,  2,  3,  3,  3,  3,  2,  2,  2,  3,  3,  4,  4,  4,  3,  5,  7,\n",
       "        8,  9,  9,  8,  8,  6,  3,  0,  0,  0,  2,  3,  3,  1,  2,  4,  6,\n",
       "        7,  7,  6,  6,  1,  2,  3,  3,  1,  1,  2,  3,  4,  3,  2,  3,  6,\n",
       "        8,  9,  8,  9,  7,  5,  4,  2,  3,  5,  6,  5,  5,  6,  6,  6,  5,\n",
       "        5,  4,  3,  6,  5,  1,  1,  2,  4,  3,  4,  2,  1,  2,  3,  4,  2,\n",
       "        1,  4,  3,  2,  0,  0,  1,  2,  3,  3,  2,  1,  1,  3,  3,  2,  1,\n",
       "        3,  2,  1,  0,  1,  2,  3,  5,  6,  5,  5,  7,  9, 10,  9,  7,  2,\n",
       "        2,  0,  0,  0,  0,  2,  2,  1,  2,  3,  4,  4,  4,  4,  3,  3,  3,\n",
       "        5, 10, 15, 14, 10,  5,  2,  5,  7,  5,  2,  1,  2,  5,  8,  6,  3,\n",
       "        1,  1,  2,  5,  6,  9,  8,  7,  6,  4,  3,  2,  1,  3,  3,  4,  2,\n",
       "        0,  0,  1,  3,  1,  2,  4,  6,  7,  7,  6,  6, 12, 13, 13, 11,  7,\n",
       "        4,  3,  3,  2,  1,  0,  0,  1,  2,  4,  6, 17, 17, 17, 16, 14, 11,\n",
       "        8,  6, 10, 12, 14, 13, 10,  6,  4,  3,  4,  4,  2,  1,  1,  1,  1,\n",
       "        1,  0,  1,  3,  5,  6,  6,  6,  5,  7,  8, 11, 12, 12, 11,  8,  7,\n",
       "        2,  2,  2,  2,  2,  3,  4,  5, 10, 10, 10,  7,  5,  3,  4,  6],\n",
       "      dtype=uint8)"
      ]
     },
     "execution_count": 27,
     "metadata": {},
     "output_type": "execute_result"
    }
   ],
   "source": [
    "#Using PILLOW to convert images to array\n",
    "from PIL import Image, ImageOps\n",
    "from numpy import asarray\n",
    " \n",
    "filepath=\"Galaxy_data/images_training_rev1/100859.jpg\" \n",
    "# load the image and convert into numpy array\n",
    "img = Image.open(filepath)\n",
    "\n",
    "#img.show()\n",
    "\n",
    "img_gray = ImageOps.grayscale(img)\n",
    "\n",
    "img_gray.show() #to check it become gray\n",
    " \n",
    "# asarray() class is used to convert\n",
    "#PIL images into NumPy arrays\n",
    "numpydata = asarray(img_gray)\n",
    "numpydata[0]"
   ]
  },
  {
   "cell_type": "code",
   "execution_count": 12,
   "id": "74cf2d89-48d1-4da2-947d-795942804d4e",
   "metadata": {},
   "outputs": [],
   "source": [
    "import pandas as pd"
   ]
  },
  {
   "cell_type": "code",
   "execution_count": 41,
   "id": "352e8437-17b9-46ef-bef5-2479d9eb9f75",
   "metadata": {},
   "outputs": [],
   "source": [
    "labels = pd.read_csv(\"Galaxy_data/training_solutions_rev1.csv\")"
   ]
  },
  {
   "cell_type": "code",
   "execution_count": 42,
   "id": "303dddfa-d0bb-4ec0-9662-dcbbcdc14283",
   "metadata": {},
   "outputs": [
    {
     "data": {
      "text/plain": [
       "(61534, 38)"
      ]
     },
     "execution_count": 42,
     "metadata": {},
     "output_type": "execute_result"
    }
   ],
   "source": [
    "pd.set_option('display.max_columns',None)\n",
    "labels=labels.drop(labels[labels['Class1.3'] > 0.5].index)\n",
    "labels.shape"
   ]
  },
  {
   "cell_type": "code",
   "execution_count": null,
   "id": "68e03b50-9dee-4a24-9dd5-1e93be1f05a3",
   "metadata": {},
   "outputs": [],
   "source": []
  }
 ],
 "metadata": {
  "kernelspec": {
   "display_name": "Python [conda env:ml] *",
   "language": "python",
   "name": "conda-env-ml-py"
  },
  "language_info": {
   "codemirror_mode": {
    "name": "ipython",
    "version": 3
   },
   "file_extension": ".py",
   "mimetype": "text/x-python",
   "name": "python",
   "nbconvert_exporter": "python",
   "pygments_lexer": "ipython3",
   "version": "3.10.4"
  }
 },
 "nbformat": 4,
 "nbformat_minor": 5
}
